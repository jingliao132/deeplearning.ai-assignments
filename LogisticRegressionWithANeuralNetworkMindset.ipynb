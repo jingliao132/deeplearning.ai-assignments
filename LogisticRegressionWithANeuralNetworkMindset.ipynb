{
 "cells": [
  {
   "cell_type": "code",
   "execution_count": 2,
   "metadata": {},
   "outputs": [],
   "source": [
    "import numpy as np\n",
    "import matplotlib.pyplot as plt\n",
    "import h5py\n",
    "import scipy\n",
    "from PIL import Image\n",
    "from scipy import ndimage\n"
   ]
  },
  {
   "cell_type": "code",
   "execution_count": 15,
   "metadata": {},
   "outputs": [
    {
     "name": "stdout",
     "output_type": "stream",
     "text": [
      "[u'list_classes', u'train_set_x', u'train_set_y']\n",
      "[u'list_classes', u'test_set_x', u'test_set_y']\n"
     ]
    }
   ],
   "source": [
    "f1 = h5py.File('./datasets/train_catvnoncat.h5', 'r')\n",
    "f2 = h5py.File('./datasets/test_catvnoncat.h5', 'r')\n",
    "print f1.keys()\n",
    "print f2.keys()"
   ]
  },
  {
   "cell_type": "code",
   "execution_count": 23,
   "metadata": {},
   "outputs": [],
   "source": [
    "train_set_x_orig, train_set_y, test_set_x_orig, test_set_y = f1['train_set_x'], f1['train_set_y'], f2['test_set_x'], f2['test_set_y']"
   ]
  },
  {
   "cell_type": "code",
   "execution_count": 34,
   "metadata": {},
   "outputs": [
    {
     "name": "stdout",
     "output_type": "stream",
     "text": [
      "Number of training examples :  209\n",
      "Number of test examples :  50\n",
      "Height/Width of a training image :  64\n",
      "Shape of train_set_x_orig :  (209, 64, 64, 3)\n",
      "Shape of train_set_y :  (209,)\n",
      "Shape of test_set_x_orig :  (50, 64, 64, 3)\n",
      "Shape of test_set_y :  (50,)\n"
     ]
    }
   ],
   "source": [
    "m_train = train_set_x_orig.shape[0]\n",
    "m_test = test_set_x_orig.shape[0]\n",
    "assert(train_set_x_orig.shape[1] == train_set_x_orig.shape[2])\n",
    "assert(test_set_x_orig.shape[1] == test_set_x_orig.shape[2])\n",
    "num_px = train_set_x_orig.shape[1]\n",
    "print 'Number of training examples : ', m_train\n",
    "print 'Number of test examples : ', m_test\n",
    "print 'Height/Width of a training image : ', num_px\n",
    "print 'Shape of train_set_x_orig : ', train_set_x_orig.shape\n",
    "print 'Shape of train_set_y : ', train_set_y.shape\n",
    "print 'Shape of test_set_x_orig : ', test_set_x_orig.shape\n",
    "print 'Shape of test_set_y : ', test_set_y.shape"
   ]
  },
  {
   "cell_type": "code",
   "execution_count": 40,
   "metadata": {},
   "outputs": [
    {
     "name": "stdout",
     "output_type": "stream",
     "text": [
      "Shape of train_set x and y :  (12288, 209) (1, 209)\n",
      "Shape of test_set x and y :  (12288, 50) (1, 50)\n"
     ]
    }
   ],
   "source": [
    "train_set_x = np.array(train_set_x_orig).reshape((m_train, num_px*num_px*3)).T/255.0\n",
    "train_set_y = np.array(train_set_y).reshape((m_train, 1)).T\n",
    "test_set_x = np.array(test_set_x_orig).reshape((m_test, num_px*num_px*3)).T/255.0\n",
    "test_set_y = np.array(test_set_y).reshape(m_test, 1).T\n",
    "print 'Shape of train_set x and y : ', train_set_x.shape, train_set_y.shape\n",
    "print 'Shape of test_set x and y : ', test_set_x.shape, test_set_y.shape"
   ]
  },
  {
   "cell_type": "code",
   "execution_count": 75,
   "metadata": {
    "collapsed": true
   },
   "outputs": [],
   "source": [
    "def sigmoid(z):\n",
    "    return 1.0 / (1.0 + np.exp(-z))"
   ]
  },
  {
   "cell_type": "code",
   "execution_count": 76,
   "metadata": {},
   "outputs": [
    {
     "name": "stdout",
     "output_type": "stream",
     "text": [
      "sigmoid([0, 2]) :  [ 0.5         0.88079708]\n"
     ]
    }
   ],
   "source": [
    "print 'sigmoid([0, 2]) : ', sigmoid(np.array([0, 2]))"
   ]
  },
  {
   "cell_type": "code",
   "execution_count": 106,
   "metadata": {},
   "outputs": [
    {
     "name": "stdout",
     "output_type": "stream",
     "text": [
      "w =  [[ 0.00303238]\n",
      " [-0.00810277]]\n",
      "b =  [[ 0.]]\n"
     ]
    }
   ],
   "source": [
    "def random_initializer(dim_input, dim_output):\n",
    "    w = np.random.randn(dim_input, dim_output)*0.01\n",
    "    b = np.zeros((1, dim_output))\n",
    "    return w, b\n",
    "\n",
    "w, b = random_initializer(2, 1)\n",
    "print 'w = ', str(w)\n",
    "print 'b = ', str(b)"
   ]
  },
  {
   "cell_type": "code",
   "execution_count": 122,
   "metadata": {},
   "outputs": [
    {
     "name": "stdout",
     "output_type": "stream",
     "text": [
      "Output A[l] :  [[ 0.99987661  0.99999386  0.00449627]] \n",
      "Gradients dw[l] and db[l] :  [[ 0.99845601]\n",
      " [ 2.39507239]]  and  [[ 0.00145558]] \n",
      "Cost :  5.80154531939\n"
     ]
    }
   ],
   "source": [
    "def propagate(w, b, X, Y):\n",
    "    # Forward\n",
    "    m = X.shape[1]\n",
    "    #print 'm : ', m\n",
    "    z = np.dot(w.T, X) + b    # X is dim_input by m, w is dim_input by dim_output, z should be dim_out by m\n",
    "    #print 'z : ', z.shape\n",
    "    A = sigmoid(z)\n",
    "    #print 'A : ', A\n",
    "    cost = -1.0 / m * np.sum(Y*np.log(A) + (1-Y)*np.log(1-A))\n",
    "    #cost = -1 / m * np.sum(Y*np.log(A) + (1-Y)*np.log(1-A))    # BUG: cost is a float, so 1.0 rather than 1\n",
    "                                                                # (not knowing why output of using 1.0 and 1 is different)\n",
    "    #print 'cost : ', cost\n",
    "    \n",
    "    # Backward\n",
    "    dz = A - Y    # dz is num_out by m\n",
    "    #dw = 1.0 / m * np.dot(dz, A.T)    # BUG: dw should use dz*X.T because X = A[l-1] while A here is actually A[l]\n",
    "    dw = (1.0 / m) * np.dot(dz, X.T).T\n",
    "    #print 'dw : ', dw\n",
    "    db = (1.0 / m) * np.sum(dz, axis=1, keepdims=True)\n",
    "    #print 'db : ', db\n",
    "    \n",
    "    assert(w.shape == dw.shape)\n",
    "    return A, dw, db, cost\n",
    "\n",
    "A, dw, db, cost = propagate(np.array([[1.], [2.]]), 2., np.array([[1., 2., -1.], [3., 4., -3.2]]), np.array([[1, 0, 1]]))\n",
    "print 'Output A[l] : ', A, '\\nGradients dw[l] and db[l] : ', dw, ' and ', db, '\\nCost : ', cost"
   ]
  },
  {
   "cell_type": "code",
   "execution_count": 149,
   "metadata": {},
   "outputs": [
    {
     "name": "stdout",
     "output_type": "stream",
     "text": [
      "costs are : [1.0784313398164707]\n"
     ]
    }
   ],
   "source": [
    "def optimize(w, b, X, Y, learning_rate, iter_num, print_cost=False):\n",
    "    costs = []\n",
    "    for index in range(iter_num):\n",
    "        A, dw, db, cost = propagate(w, b, X, Y)\n",
    "        w = w - learning_rate * dw\n",
    "        b = b - learning_rate * db\n",
    "        if (index+1) % 100 == 0:\n",
    "            costs.append(cost)\n",
    "            if print_cost:\n",
    "                print 'Cost after iteration', (index+1), ': ', cost\n",
    "                #print 'w = ', w, '\\nb = ', b, '\\ndw = ', dw, '\\ndb = ', db, '\\ncost = ', cost\n",
    "    params = {'w': w,\n",
    "              'b': b}\n",
    "    grads = {'dw': dw,\n",
    "             'db': db}\n",
    "    return params, grads, costs\n",
    "w = np.array([[1.0], [2.0]])\n",
    "b = 2.0\n",
    "X = np.array([[1., 2., -1.], [3., 4., -3.2]])\n",
    "Y = np.array([[1, 0, 1]])\n",
    "params, grads, costs = optimize(w, b, X, Y, learning_rate=0.009, iter_num=100, print_cost=False)\n",
    "print 'costs are :', costs"
   ]
  },
  {
   "cell_type": "code",
   "execution_count": 91,
   "metadata": {},
   "outputs": [
    {
     "name": "stdout",
     "output_type": "stream",
     "text": [
      "predictions =  [[ 1.  1.  0.]]\n"
     ]
    }
   ],
   "source": [
    "def predict(w, b, X):\n",
    "    m = X.shape[1]\n",
    "    Z = np.dot(w.T, X) + b\n",
    "    Y_prediction = sigmoid(Z)\n",
    "    assert(Y_prediction.shape == (1, m))\n",
    "    #print Y_prediction[0]\n",
    "    for index in range(m):\n",
    "        if Y_prediction[0, index] <= 0.5: Y_prediction[0, index] = 0.0\n",
    "        else: Y_prediction[0, index] = 1.0\n",
    "        \n",
    "    return Y_prediction\n",
    "\n",
    "w = np.array([[0.1124579], [0.23106775]])\n",
    "b = -0.3\n",
    "X = np.array([[1.0, -1.1, -3.2], [1.2, 2.0, 0.1]])\n",
    "print 'predictions = ', str(predict(w, b, X))"
   ]
  },
  {
   "cell_type": "code",
   "execution_count": 133,
   "metadata": {},
   "outputs": [
    {
     "name": "stdout",
     "output_type": "stream",
     "text": [
      "Cost after iteration 100 :  0.635077379459\n",
      "Cost after iteration 200 :  0.479087209638\n",
      "Cost after iteration 300 :  0.374795762674\n",
      "Cost after iteration 400 :  0.331267377013\n",
      "Cost after iteration 500 :  0.30307390937\n",
      "Cost after iteration 600 :  0.279674660726\n",
      "Cost after iteration 700 :  0.259830228747\n",
      "Cost after iteration 800 :  0.242722117822\n",
      "Cost after iteration 900 :  0.227780339133\n",
      "Cost after iteration 1000 :  0.214592093466\n",
      "Cost after iteration 1100 :  0.202849063968\n",
      "Cost after iteration 1200 :  0.192315122164\n",
      "Cost after iteration 1300 :  0.182805597195\n",
      "Cost after iteration 1400 :  0.174173459305\n",
      "Cost after iteration 1500 :  0.166299824258\n",
      "Cost after iteration 1600 :  0.159087257958\n",
      "Cost after iteration 1700 :  0.152454951289\n",
      "Cost after iteration 1800 :  0.146335175864\n",
      "Cost after iteration 1900 :  0.140670635986\n",
      "Cost after iteration 2000 :  0.135412459377\n",
      "Train accuracy:  0.99043062201\n",
      "Test accuracy:  0.7\n"
     ]
    }
   ],
   "source": [
    "def model(X_train, Y_train, X_test, Y_test, learning_rate=0.02, iter_num=2000, print_cost=False):\n",
    "    m = X_train.shape[1]\n",
    "    n = X_test.shape[1]\n",
    "    w, b = random_initializer(X_train.shape[0], 1)\n",
    "    #print 'w.shape = ', w.shape\n",
    "    #print 'b.shape = ', b.shape\n",
    "    params, grads, costs = optimize(w, b, X_train, Y_train, learning_rate, iter_num, print_cost)\n",
    "    \n",
    "    Y_prediction_test = predict(params['w'], params['b'], X_test)\n",
    "    Y_prediction_train = predict(params['w'], params['b'], X_train)\n",
    "    \n",
    "    print 'Train accuracy: ', 1.0 - np.mean(np.abs(Y_prediction_train - Y_train))\n",
    "    print 'Test accuracy: ', 1.0 - np.mean(np.abs(Y_prediction_test - Y_test))\n",
    "    \n",
    "    params = {'costs': costs,\n",
    "              'Y_prediction_test': Y_prediction_test,\n",
    "              'Y_prediction_train': Y_prediction_train,\n",
    "              'w': params['w'],\n",
    "              'b': params['b'],\n",
    "              'learning_rate': learning_rate,\n",
    "              'iter_num': iter_num\n",
    "    }\n",
    "    return params\n",
    "\n",
    "d = model(train_set_x, train_set_y, test_set_x, test_set_y, learning_rate = 0.005, iter_num = 2000, print_cost=True)"
   ]
  },
  {
   "cell_type": "code",
   "execution_count": 141,
   "metadata": {},
   "outputs": [
    {
     "data": {
      "image/png": "[encoded data removed]",
      "text/plain": [
       "<matplotlib.figure.Figure at 0x7f86c70bd4d0>"
      ]
     },
     "metadata": {},
     "output_type": "display_data"
    }
   ],
   "source": [
    "costs = np.squeeze(d['costs'])\n",
    "plt.plot(costs)\n",
    "plt.ylabel('cost')\n",
    "plt.xlabel('iterations (per hundreds)')\n",
    "plt.title(\"Learning rate =\" + str(d[\"learning_rate\"]))\n",
    "plt.show()"
   ]
  },
  {
   "cell_type": "code",
   "execution_count": 151,
   "metadata": {},
   "outputs": [
    {
     "name": "stdout",
     "output_type": "stream",
     "text": [
      "learning rate is: 0.01\n",
      "Train accuracy:  0.995215311005\n",
      "Test accuracy:  0.72\n",
      "\n",
      "-------------------------------------------------------\n",
      "\n",
      "learning rate is: 0.001\n",
      "Train accuracy:  0.88995215311\n",
      "Test accuracy:  0.66\n",
      "\n",
      "-------------------------------------------------------\n",
      "\n",
      "learning rate is: 0.005\n",
      "Train accuracy:  0.976076555024\n",
      "Test accuracy:  0.72\n",
      "\n",
      "-------------------------------------------------------\n",
      "\n",
      "learning rate is: 0.0001\n",
      "Train accuracy:  0.684210526316\n",
      "Test accuracy:  0.38\n",
      "\n",
      "-------------------------------------------------------\n",
      "\n"
     ]
    },
    {
     "data": {
      "image/png": "[encoded data removed]",
      "text/plain": [
       "<matplotlib.figure.Figure at 0x7f86c6bd8590>"
      ]
     },
     "metadata": {},
     "output_type": "display_data"
    }
   ],
   "source": [
    "learning_rates = [0.01, 0.001, 0.005, 0.0001]\n",
    "models = {}\n",
    "for i in learning_rates:\n",
    "    print (\"learning rate is: \" + str(i))\n",
    "    models[str(i)] = model(train_set_x, train_set_y, test_set_x, test_set_y, learning_rate = i, iter_num = 1500, print_cost = False)\n",
    "    print ('\\n' + \"-------------------------------------------------------\" + '\\n')\n",
    "\n",
    "plt.ylabel('cost')\n",
    "plt.xlabel('iterations')\n",
    "\n",
    "for i in learning_rates:\n",
    "    plt.plot(np.squeeze(models[str(i)]['costs']), label= str(models[str(i)]['learning_rate']))\n",
    "\n",
    "legend = plt.legend(loc='upper center', shadow=True)\n",
    "frame = legend.get_frame()\n",
    "frame.set_facecolor('0.90')\n",
    "plt.show()"
   ]
  },
  {
   "cell_type": "code",
   "execution_count": null,
   "metadata": {
    "collapsed": true
   },
   "outputs": [],
   "source": []
  },
  {
   "cell_type": "code",
   "execution_count": null,
   "metadata": {
    "collapsed": true
   },
   "outputs": [],
   "source": []
  },
  {
   "cell_type": "code",
   "execution_count": null,
   "metadata": {
    "collapsed": true
   },
   "outputs": [],
   "source": []
  }
 ],
 "metadata": {
  "kernelspec": {
   "display_name": "Python 2",
   "language": "python",
   "name": "python2"
  },
  "language_info": {
   "codemirror_mode": {
    "name": "ipython",
    "version": 2
   },
   "file_extension": ".py",
   "mimetype": "text/x-python",
   "name": "python",
   "nbconvert_exporter": "python",
   "pygments_lexer": "ipython2",
   "version": "2.7.12"
  }
 },
 "nbformat": 4,
 "nbformat_minor": 2
}
